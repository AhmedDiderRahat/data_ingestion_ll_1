{
 "cells": [
  {
   "cell_type": "markdown",
   "metadata": {},
   "source": [
    "### Load data using built in csv module (dictionary reader):"
   ]
  },
  {
   "cell_type": "code",
   "execution_count": 1,
   "metadata": {},
   "outputs": [],
   "source": [
    "import bz2\n",
    "import csv\n",
    "from collections import namedtuple\n",
    "from datetime import datetime\n",
    "from pprint import pprint"
   ]
  },
  {
   "cell_type": "code",
   "execution_count": 2,
   "metadata": {},
   "outputs": [],
   "source": [
    "Column = namedtuple('Column', 'src dest convert')"
   ]
  },
  {
   "cell_type": "code",
   "execution_count": 3,
   "metadata": {},
   "outputs": [],
   "source": [
    "def parse_timestamp(text):\n",
    "    return datetime.strptime(text, '%Y-%m-%d %H:%M:%S')"
   ]
  },
  {
   "cell_type": "code",
   "execution_count": 4,
   "metadata": {},
   "outputs": [],
   "source": [
    "columns = [\n",
    "    Column('VendorID', 'vendor_id', int),\n",
    "    Column('passenger_count', 'num_passengers', int),\n",
    "    Column('tip_amount', 'tip', float),\n",
    "    Column('total_amount', 'price', float),\n",
    "    Column('tpep_dropoff_datetime', 'dropoff_time', parse_timestamp),\n",
    "    Column('tpep_pickup_datetime', 'pickup_time', parse_timestamp),\n",
    "    Column('trip_distance', 'distance', float),\n",
    "]"
   ]
  },
  {
   "cell_type": "code",
   "execution_count": 5,
   "metadata": {},
   "outputs": [],
   "source": [
    "def iter_records(file_name):\n",
    "    with bz2.open(file_name, 'rt') as fp:\n",
    "        reader = csv.DictReader(fp)\n",
    "        for csv_record in reader:\n",
    "            record = {}\n",
    "            for col in columns:\n",
    "                record[col.dest] = col.convert(csv_record[col.src])\n",
    "            yield record"
   ]
  },
  {
   "cell_type": "code",
   "execution_count": 6,
   "metadata": {},
   "outputs": [],
   "source": [
    "def example():\n",
    "\n",
    "    for i, record in enumerate(iter_records('taxi.csv.bz2')):\n",
    "        if i >= 10:\n",
    "            break\n",
    "        pprint(record)"
   ]
  },
  {
   "cell_type": "code",
   "execution_count": 7,
   "metadata": {},
   "outputs": [
    {
     "name": "stdout",
     "output_type": "stream",
     "text": [
      "{'distance': 2.57,\n",
      " 'dropoff_time': datetime.datetime(2018, 11, 1, 6, 43, 24),\n",
      " 'num_passengers': 1,\n",
      " 'pickup_time': datetime.datetime(2018, 10, 31, 7, 10, 55),\n",
      " 'price': 20.54,\n",
      " 'tip': 4.74,\n",
      " 'vendor_id': 2}\n",
      "{'distance': 3.58,\n",
      " 'dropoff_time': datetime.datetime(2018, 10, 31, 16, 50, 10),\n",
      " 'num_passengers': 5,\n",
      " 'pickup_time': datetime.datetime(2018, 10, 31, 16, 38, 25),\n",
      " 'price': 13.8,\n",
      " 'tip': 0.0,\n",
      " 'vendor_id': 2}\n",
      "{'distance': 2.39,\n",
      " 'dropoff_time': datetime.datetime(2018, 10, 31, 20, 31, 47),\n",
      " 'num_passengers': 1,\n",
      " 'pickup_time': datetime.datetime(2018, 10, 31, 20, 23, 41),\n",
      " 'price': 11.3,\n",
      " 'tip': 1.0,\n",
      " 'vendor_id': 2}\n",
      "{'distance': 0.5,\n",
      " 'dropoff_time': datetime.datetime(2018, 10, 31, 22, 48, 28),\n",
      " 'num_passengers': 1,\n",
      " 'pickup_time': datetime.datetime(2018, 10, 31, 22, 44, 24),\n",
      " 'price': 5.8,\n",
      " 'tip': 0.0,\n",
      " 'vendor_id': 2}\n",
      "{'distance': 1.81,\n",
      " 'dropoff_time': datetime.datetime(2018, 10, 31, 23, 35, 30),\n",
      " 'num_passengers': 1,\n",
      " 'pickup_time': datetime.datetime(2018, 10, 31, 23, 22, 18),\n",
      " 'price': 13.56,\n",
      " 'tip': 2.26,\n",
      " 'vendor_id': 2}\n",
      "{'distance': 7.91,\n",
      " 'dropoff_time': datetime.datetime(2018, 10, 31, 23, 44, 33),\n",
      " 'num_passengers': 1,\n",
      " 'pickup_time': datetime.datetime(2018, 10, 31, 23, 27, 39),\n",
      " 'price': 24.3,\n",
      " 'tip': 0.0,\n",
      " 'vendor_id': 2}\n",
      "{'distance': 2.24,\n",
      " 'dropoff_time': datetime.datetime(2018, 10, 31, 23, 46, 52),\n",
      " 'num_passengers': 1,\n",
      " 'pickup_time': datetime.datetime(2018, 10, 31, 23, 40, 55),\n",
      " 'price': 11.62,\n",
      " 'tip': 2.32,\n",
      " 'vendor_id': 2}\n",
      "{'distance': 2.31,\n",
      " 'dropoff_time': datetime.datetime(2018, 10, 31, 23, 56, 44),\n",
      " 'num_passengers': 1,\n",
      " 'pickup_time': datetime.datetime(2018, 10, 31, 23, 45, 53),\n",
      " 'price': 11.3,\n",
      " 'tip': 0.0,\n",
      " 'vendor_id': 2}\n",
      "{'distance': 0.68,\n",
      " 'dropoff_time': datetime.datetime(2018, 10, 31, 23, 52, 54),\n",
      " 'num_passengers': 1,\n",
      " 'pickup_time': datetime.datetime(2018, 10, 31, 23, 46, 42),\n",
      " 'price': 6.8,\n",
      " 'tip': 0.0,\n",
      " 'vendor_id': 2}\n",
      "{'distance': 1.65,\n",
      " 'dropoff_time': datetime.datetime(2018, 11, 1, 0, 10, 33),\n",
      " 'num_passengers': 1,\n",
      " 'pickup_time': datetime.datetime(2018, 10, 31, 23, 47, 30),\n",
      " 'price': 17.8,\n",
      " 'tip': 2.0,\n",
      " 'vendor_id': 2}\n"
     ]
    }
   ],
   "source": [
    "example()"
   ]
  },
  {
   "cell_type": "markdown",
   "metadata": {},
   "source": [
    "### Load data using Pandas:"
   ]
  },
  {
   "cell_type": "code",
   "execution_count": 18,
   "metadata": {},
   "outputs": [],
   "source": [
    "import pandas as pd"
   ]
  },
  {
   "cell_type": "code",
   "execution_count": 19,
   "metadata": {},
   "outputs": [],
   "source": [
    "df = pd.read_csv('taxi.csv.bz2')"
   ]
  },
  {
   "cell_type": "code",
   "execution_count": 20,
   "metadata": {},
   "outputs": [
    {
     "data": {
      "text/plain": [
       "VendorID                   int64\n",
       "tpep_pickup_datetime      object\n",
       "tpep_dropoff_datetime     object\n",
       "passenger_count            int64\n",
       "trip_distance            float64\n",
       "RatecodeID                 int64\n",
       "store_and_fwd_flag        object\n",
       "PULocationID               int64\n",
       "DOLocationID               int64\n",
       "payment_type               int64\n",
       "fare_amount              float64\n",
       "extra                    float64\n",
       "mta_tax                  float64\n",
       "tip_amount               float64\n",
       "tolls_amount             float64\n",
       "improvement_surcharge    float64\n",
       "total_amount             float64\n",
       "dtype: object"
      ]
     },
     "execution_count": 20,
     "metadata": {},
     "output_type": "execute_result"
    }
   ],
   "source": [
    "df.dtypes"
   ]
  },
  {
   "cell_type": "code",
   "execution_count": 21,
   "metadata": {},
   "outputs": [],
   "source": [
    "times_clos = ['tpep_pickup_datetime', 'tpep_dropoff_datetime']"
   ]
  },
  {
   "cell_type": "code",
   "execution_count": 22,
   "metadata": {},
   "outputs": [],
   "source": [
    "# spacifing the date columns\n",
    "df = pd.read_csv('taxi.csv.bz2', parse_dates=times_clos)"
   ]
  },
  {
   "cell_type": "code",
   "execution_count": 23,
   "metadata": {},
   "outputs": [
    {
     "data": {
      "text/plain": [
       "VendorID                          int64\n",
       "tpep_pickup_datetime     datetime64[ns]\n",
       "tpep_dropoff_datetime    datetime64[ns]\n",
       "passenger_count                   int64\n",
       "trip_distance                   float64\n",
       "RatecodeID                        int64\n",
       "store_and_fwd_flag               object\n",
       "PULocationID                      int64\n",
       "DOLocationID                      int64\n",
       "payment_type                      int64\n",
       "fare_amount                     float64\n",
       "extra                           float64\n",
       "mta_tax                         float64\n",
       "tip_amount                      float64\n",
       "tolls_amount                    float64\n",
       "improvement_surcharge           float64\n",
       "total_amount                    float64\n",
       "dtype: object"
      ]
     },
     "execution_count": 23,
     "metadata": {},
     "output_type": "execute_result"
    }
   ],
   "source": [
    "df.dtypes"
   ]
  },
  {
   "cell_type": "code",
   "execution_count": 30,
   "metadata": {},
   "outputs": [],
   "source": [
    "# we can load the file using different chunk\n",
    "\n",
    "df = pd.read_csv('taxi.csv.bz2', parse_dates=times_clos, chunksize=1000)"
   ]
  },
  {
   "cell_type": "code",
   "execution_count": 31,
   "metadata": {},
   "outputs": [
    {
     "data": {
      "text/plain": [
       "<pandas.io.parsers.TextFileReader at 0x201fe64cb70>"
      ]
     },
     "execution_count": 31,
     "metadata": {},
     "output_type": "execute_result"
    }
   ],
   "source": [
    "df"
   ]
  },
  {
   "cell_type": "code",
   "execution_count": 32,
   "metadata": {},
   "outputs": [
    {
     "name": "stdout",
     "output_type": "stream",
     "text": [
      "1000\n",
      "1000\n",
      "1000\n",
      "1000\n",
      "1000\n",
      "1000\n",
      "1000\n",
      "1000\n",
      "1000\n",
      "1000\n"
     ]
    }
   ],
   "source": [
    "for sub_df in df:\n",
    "    print(len(sub_df))"
   ]
  }
 ],
 "metadata": {
  "kernelspec": {
   "display_name": "Python 3",
   "language": "python",
   "name": "python3"
  },
  "language_info": {
   "codemirror_mode": {
    "name": "ipython",
    "version": 3
   },
   "file_extension": ".py",
   "mimetype": "text/x-python",
   "name": "python",
   "nbconvert_exporter": "python",
   "pygments_lexer": "ipython3",
   "version": "3.6.5"
  }
 },
 "nbformat": 4,
 "nbformat_minor": 2
}
