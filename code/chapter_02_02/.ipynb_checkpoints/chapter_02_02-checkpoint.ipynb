{
 "cells": [
  {
   "cell_type": "markdown",
   "metadata": {},
   "source": [
    "### Load data from XML"
   ]
  },
  {
   "cell_type": "code",
   "execution_count": 1,
   "metadata": {},
   "outputs": [],
   "source": [
    "import bz2\n",
    "import xml.etree.ElementTree as xml\n",
    "import pandas as pd"
   ]
  },
  {
   "cell_type": "code",
   "execution_count": 2,
   "metadata": {},
   "outputs": [],
   "source": [
    "# Data conversions\n",
    "conversion = [\n",
    "    ('vendor', int),\n",
    "    ('people', int),\n",
    "    ('tip', float),\n",
    "    ('price', float),\n",
    "    ('pickup', pd.to_datetime),\n",
    "    ('dropoff', pd.to_datetime),\n",
    "    ('distance', float),\n",
    "]"
   ]
  },
  {
   "cell_type": "code",
   "execution_count": 44,
   "metadata": {},
   "outputs": [],
   "source": [
    "def iter_rides(file_name):\n",
    "    with bz2.open(file_name, 'rt') as fp:\n",
    "        tree = xml.parse(fp)\n",
    "\n",
    "    rides = tree.getroot()\n",
    "    \n",
    "    for elem in rides:\n",
    "        record = {}\n",
    "        for tag, func in conversion:\n",
    "            text = elem.find(tag).text\n",
    "            record[tag] = func(text)\n",
    "        yield record"
   ]
  },
  {
   "cell_type": "code",
   "execution_count": 45,
   "metadata": {},
   "outputs": [],
   "source": [
    "def load_xml(file_name):\n",
    "    records = iter_rides(file_name)\n",
    "    return pd.DataFrame.from_records(records)"
   ]
  },
  {
   "cell_type": "code",
   "execution_count": 48,
   "metadata": {},
   "outputs": [
    {
     "name": "stdout",
     "output_type": "stream",
     "text": [
      "vendor               int64\n",
      "people               int64\n",
      "tip                float64\n",
      "price              float64\n",
      "pickup      datetime64[ns]\n",
      "dropoff     datetime64[ns]\n",
      "distance           float64\n",
      "dtype: object\n"
     ]
    }
   ],
   "source": [
    "# Example\n",
    "if __name__ == '__main__':\n",
    "    df = load_xml('taxi.xml.bz2')\n",
    "    print(df.dtypes)"
   ]
  },
  {
   "cell_type": "code",
   "execution_count": 49,
   "metadata": {},
   "outputs": [
    {
     "data": {
      "text/html": [
       "<div>\n",
       "<style scoped>\n",
       "    .dataframe tbody tr th:only-of-type {\n",
       "        vertical-align: middle;\n",
       "    }\n",
       "\n",
       "    .dataframe tbody tr th {\n",
       "        vertical-align: top;\n",
       "    }\n",
       "\n",
       "    .dataframe thead th {\n",
       "        text-align: right;\n",
       "    }\n",
       "</style>\n",
       "<table border=\"1\" class=\"dataframe\">\n",
       "  <thead>\n",
       "    <tr style=\"text-align: right;\">\n",
       "      <th></th>\n",
       "      <th>vendor</th>\n",
       "      <th>people</th>\n",
       "      <th>tip</th>\n",
       "      <th>price</th>\n",
       "      <th>pickup</th>\n",
       "      <th>dropoff</th>\n",
       "      <th>distance</th>\n",
       "    </tr>\n",
       "  </thead>\n",
       "  <tbody>\n",
       "    <tr>\n",
       "      <th>0</th>\n",
       "      <td>2</td>\n",
       "      <td>1</td>\n",
       "      <td>4.74</td>\n",
       "      <td>20.54</td>\n",
       "      <td>2018-10-31 07:10:55</td>\n",
       "      <td>2018-11-01 06:43:24</td>\n",
       "      <td>2.57</td>\n",
       "    </tr>\n",
       "    <tr>\n",
       "      <th>1</th>\n",
       "      <td>2</td>\n",
       "      <td>5</td>\n",
       "      <td>0.00</td>\n",
       "      <td>13.80</td>\n",
       "      <td>2018-10-31 16:38:25</td>\n",
       "      <td>2018-10-31 16:50:10</td>\n",
       "      <td>3.58</td>\n",
       "    </tr>\n",
       "    <tr>\n",
       "      <th>2</th>\n",
       "      <td>2</td>\n",
       "      <td>1</td>\n",
       "      <td>1.00</td>\n",
       "      <td>11.30</td>\n",
       "      <td>2018-10-31 20:23:41</td>\n",
       "      <td>2018-10-31 20:31:47</td>\n",
       "      <td>2.39</td>\n",
       "    </tr>\n",
       "    <tr>\n",
       "      <th>3</th>\n",
       "      <td>2</td>\n",
       "      <td>1</td>\n",
       "      <td>0.00</td>\n",
       "      <td>5.80</td>\n",
       "      <td>2018-10-31 22:44:24</td>\n",
       "      <td>2018-10-31 22:48:28</td>\n",
       "      <td>0.50</td>\n",
       "    </tr>\n",
       "    <tr>\n",
       "      <th>4</th>\n",
       "      <td>2</td>\n",
       "      <td>1</td>\n",
       "      <td>2.26</td>\n",
       "      <td>13.56</td>\n",
       "      <td>2018-10-31 23:22:18</td>\n",
       "      <td>2018-10-31 23:35:30</td>\n",
       "      <td>1.81</td>\n",
       "    </tr>\n",
       "  </tbody>\n",
       "</table>\n",
       "</div>"
      ],
      "text/plain": [
       "   vendor  people   tip  price              pickup             dropoff  \\\n",
       "0       2       1  4.74  20.54 2018-10-31 07:10:55 2018-11-01 06:43:24   \n",
       "1       2       5  0.00  13.80 2018-10-31 16:38:25 2018-10-31 16:50:10   \n",
       "2       2       1  1.00  11.30 2018-10-31 20:23:41 2018-10-31 20:31:47   \n",
       "3       2       1  0.00   5.80 2018-10-31 22:44:24 2018-10-31 22:48:28   \n",
       "4       2       1  2.26  13.56 2018-10-31 23:22:18 2018-10-31 23:35:30   \n",
       "\n",
       "   distance  \n",
       "0      2.57  \n",
       "1      3.58  \n",
       "2      2.39  \n",
       "3      0.50  \n",
       "4      1.81  "
      ]
     },
     "execution_count": 49,
     "metadata": {},
     "output_type": "execute_result"
    }
   ],
   "source": [
    "df.head()"
   ]
  }
 ],
 "metadata": {
  "kernelspec": {
   "display_name": "Python 3",
   "language": "python",
   "name": "python3"
  },
  "language_info": {
   "codemirror_mode": {
    "name": "ipython",
    "version": 3
   },
   "file_extension": ".py",
   "mimetype": "text/x-python",
   "name": "python",
   "nbconvert_exporter": "python",
   "pygments_lexer": "ipython3",
   "version": "3.6.5"
  }
 },
 "nbformat": 4,
 "nbformat_minor": 2
}
