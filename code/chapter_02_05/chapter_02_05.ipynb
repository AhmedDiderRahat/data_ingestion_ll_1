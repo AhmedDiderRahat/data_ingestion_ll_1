{
 "cells": [
  {
   "cell_type": "markdown",
   "metadata": {},
   "source": [
    "### Working with JSON"
   ]
  },
  {
   "cell_type": "code",
   "execution_count": 6,
   "metadata": {},
   "outputs": [
    {
     "name": "stderr",
     "output_type": "stream",
     "text": [
      "WARNING: pip is being invoked by an old script wrapper. This will fail in a future version of pip.\n",
      "Please see https://github.com/pypa/pip/issues/5599 for advice on fixing the underlying issue.\n",
      "To avoid this problem you can invoke Python with '-m pip' instead of running pip directly.\n",
      "ERROR: Could not find a version that satisfies the requirement json (from versions: none)\n",
      "ERROR: No matching distribution found for json\n"
     ]
    }
   ],
   "source": [
    "!pip install json"
   ]
  },
  {
   "cell_type": "code",
   "execution_count": 15,
   "metadata": {},
   "outputs": [],
   "source": [
    "import json\n",
    "import pandas as pd\n",
    "from datetime import  datetime, timedelta"
   ]
  },
  {
   "cell_type": "code",
   "execution_count": 28,
   "metadata": {},
   "outputs": [],
   "source": [
    "def parse_time(ts):\n",
    "    #print(pd.to_datetime(ts[:-1]).to_pydatetime())\n",
    "    return pd.to_datetime(ts[:-1]).to_pydatetime() # datetime.fromisoformat() #ts[:-1]"
   ]
  },
  {
   "cell_type": "code",
   "execution_count": 29,
   "metadata": {},
   "outputs": [],
   "source": [
    "def fix_pair(pair):\n",
    "    key, value = pair\n",
    "    \n",
    "    if key not in ('pickup', 'dropoff'):\n",
    "        return pair\n",
    "    return key, parse_time(value)"
   ]
  },
  {
   "cell_type": "code",
   "execution_count": 30,
   "metadata": {},
   "outputs": [],
   "source": [
    "def pairs_hook(pairs):\n",
    "    return dict(fix_pair(pair) for pair in pairs)"
   ]
  },
  {
   "cell_type": "code",
   "execution_count": 33,
   "metadata": {},
   "outputs": [
    {
     "name": "stdout",
     "output_type": "stream",
     "text": [
      "The average duration time is: 0:17:28.555600\n"
     ]
    }
   ],
   "source": [
    "\"\"\"\n",
    "    {\"vendor\":2,\n",
    "    \"pickup\":\"2018-10-31T07:10:55.000Z\",\n",
    "    \"dropoff\":\"2018-11-01T06:43:24.000Z\",\n",
    "    \"distance\":2.57,\n",
    "    \"tip\":4.74,\n",
    "    \"total\":20.54}\n",
    "\"\"\"\n",
    "durations = []\n",
    "with open('taxi.jl') as fp:\n",
    "    \n",
    "    for line in fp:\n",
    "        obj = json.loads(line, object_pairs_hook=pairs_hook)\n",
    "        \n",
    "        duration = obj['dropoff'] - obj['pickup']\n",
    "        \n",
    "        durations.append(duration)\n",
    "\n",
    "avg_duration_time = sum(durations, timedelta()) / len(durations)\n",
    "\n",
    "print(f'The average duration time is: {avg_duration_time}')"
   ]
  },
  {
   "cell_type": "code",
   "execution_count": null,
   "metadata": {},
   "outputs": [],
   "source": []
  }
 ],
 "metadata": {
  "kernelspec": {
   "display_name": "Python 3",
   "language": "python",
   "name": "python3"
  },
  "language_info": {
   "codemirror_mode": {
    "name": "ipython",
    "version": 3
   },
   "file_extension": ".py",
   "mimetype": "text/x-python",
   "name": "python",
   "nbconvert_exporter": "python",
   "pygments_lexer": "ipython3",
   "version": "3.6.5"
  }
 },
 "nbformat": 4,
 "nbformat_minor": 2
}
