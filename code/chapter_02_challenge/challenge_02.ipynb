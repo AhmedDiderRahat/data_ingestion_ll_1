{
 "cells": [
  {
   "cell_type": "code",
   "execution_count": 10,
   "metadata": {},
   "outputs": [],
   "source": [
    "import bz2\n",
    "import csv\n",
    "import json\n",
    "from collections import namedtuple\n",
    "from datetime import datetime\n",
    "from pprint import pprint"
   ]
  },
  {
   "cell_type": "code",
   "execution_count": 2,
   "metadata": {},
   "outputs": [],
   "source": [
    "Column = namedtuple('Column', 'src dest convert')"
   ]
  },
  {
   "cell_type": "code",
   "execution_count": 3,
   "metadata": {},
   "outputs": [],
   "source": [
    "def parse_timestamp(text):\n",
    "    return datetime.strptime(text, '%Y-%m-%d %H:%M:%S')"
   ]
  },
  {
   "cell_type": "code",
   "execution_count": 4,
   "metadata": {},
   "outputs": [],
   "source": [
    "columns = [\n",
    "    Column('VendorID', 'vendor_id', int),\n",
    "    Column('passenger_count', 'num_passengers', int),\n",
    "    Column('tip_amount', 'tip', float),\n",
    "    Column('total_amount', 'price', float),\n",
    "    Column('tpep_dropoff_datetime', 'dropoff_time', parse_timestamp),\n",
    "    Column('tpep_pickup_datetime', 'pickup_time', parse_timestamp),\n",
    "    Column('trip_distance', 'distance', float),\n",
    "]"
   ]
  },
  {
   "cell_type": "code",
   "execution_count": 5,
   "metadata": {},
   "outputs": [],
   "source": [
    "def iter_records(file_name):\n",
    "    with bz2.open(file_name, 'rt') as fp:\n",
    "        reader = csv.DictReader(fp)\n",
    "        for csv_record in reader:\n",
    "            record = {}\n",
    "            for col in columns:\n",
    "                record[col.dest] = col.convert(csv_record[col.src])\n",
    "            yield record"
   ]
  },
  {
   "cell_type": "code",
   "execution_count": 8,
   "metadata": {},
   "outputs": [
    {
     "name": "stdout",
     "output_type": "stream",
     "text": [
      "{'distance': 2.57,\n",
      " 'dropoff_time': datetime.datetime(2018, 11, 1, 6, 43, 24),\n",
      " 'num_passengers': 1,\n",
      " 'pickup_time': datetime.datetime(2018, 10, 31, 7, 10, 55),\n",
      " 'price': 20.54,\n",
      " 'tip': 4.74,\n",
      " 'vendor_id': 2}\n"
     ]
    }
   ],
   "source": [
    "def example():\n",
    "\n",
    "    for i, record in enumerate(iter_records('taxi.csv.bz2')):\n",
    "        if i >= 1:\n",
    "            break\n",
    "        pprint(record)\n",
    "example()"
   ]
  },
  {
   "cell_type": "code",
   "execution_count": 9,
   "metadata": {},
   "outputs": [],
   "source": [
    "def encode_time(obj):\n",
    "    if not isinstance(obj, datetime):\n",
    "        return obj\n",
    "    return obj.isoformat()"
   ]
  },
  {
   "cell_type": "code",
   "execution_count": 12,
   "metadata": {},
   "outputs": [],
   "source": [
    "with open('taxi.jl', 'w') as out:\n",
    "    for record in iter_records('taxi.csv.bz2'):\n",
    "        data = json.dumps(record, default=encode_time)\n",
    "        out.write(f'{data}\\n')"
   ]
  },
  {
   "cell_type": "code",
   "execution_count": null,
   "metadata": {},
   "outputs": [],
   "source": []
  }
 ],
 "metadata": {
  "kernelspec": {
   "display_name": "Python 3",
   "language": "python",
   "name": "python3"
  },
  "language_info": {
   "codemirror_mode": {
    "name": "ipython",
    "version": 3
   },
   "file_extension": ".py",
   "mimetype": "text/x-python",
   "name": "python",
   "nbconvert_exporter": "python",
   "pygments_lexer": "ipython3",
   "version": "3.6.5"
  }
 },
 "nbformat": 4,
 "nbformat_minor": 2
}
